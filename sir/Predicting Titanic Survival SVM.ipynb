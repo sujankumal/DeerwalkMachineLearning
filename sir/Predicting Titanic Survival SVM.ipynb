{
 "cells": [
  {
   "cell_type": "code",
   "execution_count": 1,
   "metadata": {},
   "outputs": [
    {
     "name": "stderr",
     "output_type": "stream",
     "text": [
      "C:\\Users\\Goldy\\AppData\\Local\\Programs\\Python\\Python37\\lib\\importlib\\_bootstrap.py:219: RuntimeWarning: numpy.ufunc size changed, may indicate binary incompatibility. Expected 192 from C header, got 216 from PyObject\n",
      "  return f(*args, **kwds)\n",
      "C:\\Users\\Goldy\\AppData\\Local\\Programs\\Python\\Python37\\lib\\importlib\\_bootstrap.py:219: RuntimeWarning: numpy.ufunc size changed, may indicate binary incompatibility. Expected 192 from C header, got 216 from PyObject\n",
      "  return f(*args, **kwds)\n"
     ]
    }
   ],
   "source": [
    "import pandas as pd"
   ]
  },
  {
   "cell_type": "markdown",
   "metadata": {},
   "source": [
    "Load the dataframe in pandas from csv file"
   ]
  },
  {
   "cell_type": "code",
   "execution_count": 2,
   "metadata": {},
   "outputs": [],
   "source": [
    "df = pd.read_csv('train.csv')"
   ]
  },
  {
   "cell_type": "code",
   "execution_count": 3,
   "metadata": {},
   "outputs": [
    {
     "data": {
      "text/plain": [
       "PassengerId      0\n",
       "Survived         0\n",
       "Pclass           0\n",
       "Name             0\n",
       "Sex              0\n",
       "Age            177\n",
       "SibSp            0\n",
       "Parch            0\n",
       "Ticket           0\n",
       "Fare             0\n",
       "Cabin          687\n",
       "Embarked         2\n",
       "dtype: int64"
      ]
     },
     "execution_count": 3,
     "metadata": {},
     "output_type": "execute_result"
    }
   ],
   "source": [
    "df.isnull().sum()"
   ]
  },
  {
   "cell_type": "code",
   "execution_count": 4,
   "metadata": {},
   "outputs": [],
   "source": [
    "df = df.drop('Cabin', axis=1)"
   ]
  },
  {
   "cell_type": "code",
   "execution_count": 5,
   "metadata": {},
   "outputs": [
    {
     "data": {
      "text/plain": [
       "PassengerId      0\n",
       "Survived         0\n",
       "Pclass           0\n",
       "Name             0\n",
       "Sex              0\n",
       "Age            177\n",
       "SibSp            0\n",
       "Parch            0\n",
       "Ticket           0\n",
       "Fare             0\n",
       "Embarked         2\n",
       "dtype: int64"
      ]
     },
     "execution_count": 5,
     "metadata": {},
     "output_type": "execute_result"
    }
   ],
   "source": [
    "df.isnull().sum()"
   ]
  },
  {
   "cell_type": "code",
   "execution_count": 6,
   "metadata": {},
   "outputs": [
    {
     "data": {
      "text/plain": [
       "(891, 11)"
      ]
     },
     "execution_count": 6,
     "metadata": {},
     "output_type": "execute_result"
    }
   ],
   "source": [
    "df.shape"
   ]
  },
  {
   "cell_type": "code",
   "execution_count": 7,
   "metadata": {},
   "outputs": [],
   "source": [
    "df = df.dropna()"
   ]
  },
  {
   "cell_type": "code",
   "execution_count": 8,
   "metadata": {},
   "outputs": [
    {
     "data": {
      "text/plain": [
       "(712, 11)"
      ]
     },
     "execution_count": 8,
     "metadata": {},
     "output_type": "execute_result"
    }
   ],
   "source": [
    "df.shape"
   ]
  },
  {
   "cell_type": "code",
   "execution_count": 9,
   "metadata": {},
   "outputs": [
    {
     "data": {
      "text/html": [
       "<div>\n",
       "<style scoped>\n",
       "    .dataframe tbody tr th:only-of-type {\n",
       "        vertical-align: middle;\n",
       "    }\n",
       "\n",
       "    .dataframe tbody tr th {\n",
       "        vertical-align: top;\n",
       "    }\n",
       "\n",
       "    .dataframe thead th {\n",
       "        text-align: right;\n",
       "    }\n",
       "</style>\n",
       "<table border=\"1\" class=\"dataframe\">\n",
       "  <thead>\n",
       "    <tr style=\"text-align: right;\">\n",
       "      <th></th>\n",
       "      <th>PassengerId</th>\n",
       "      <th>Survived</th>\n",
       "      <th>Pclass</th>\n",
       "      <th>Name</th>\n",
       "      <th>Sex</th>\n",
       "      <th>Age</th>\n",
       "      <th>SibSp</th>\n",
       "      <th>Parch</th>\n",
       "      <th>Ticket</th>\n",
       "      <th>Fare</th>\n",
       "      <th>Embarked</th>\n",
       "    </tr>\n",
       "  </thead>\n",
       "  <tbody>\n",
       "    <tr>\n",
       "      <th>0</th>\n",
       "      <td>1</td>\n",
       "      <td>0</td>\n",
       "      <td>3</td>\n",
       "      <td>Braund, Mr. Owen Harris</td>\n",
       "      <td>male</td>\n",
       "      <td>22.0</td>\n",
       "      <td>1</td>\n",
       "      <td>0</td>\n",
       "      <td>A/5 21171</td>\n",
       "      <td>7.2500</td>\n",
       "      <td>S</td>\n",
       "    </tr>\n",
       "    <tr>\n",
       "      <th>1</th>\n",
       "      <td>2</td>\n",
       "      <td>1</td>\n",
       "      <td>1</td>\n",
       "      <td>Cumings, Mrs. John Bradley (Florence Briggs Th...</td>\n",
       "      <td>female</td>\n",
       "      <td>38.0</td>\n",
       "      <td>1</td>\n",
       "      <td>0</td>\n",
       "      <td>PC 17599</td>\n",
       "      <td>71.2833</td>\n",
       "      <td>C</td>\n",
       "    </tr>\n",
       "    <tr>\n",
       "      <th>2</th>\n",
       "      <td>3</td>\n",
       "      <td>1</td>\n",
       "      <td>3</td>\n",
       "      <td>Heikkinen, Miss. Laina</td>\n",
       "      <td>female</td>\n",
       "      <td>26.0</td>\n",
       "      <td>0</td>\n",
       "      <td>0</td>\n",
       "      <td>STON/O2. 3101282</td>\n",
       "      <td>7.9250</td>\n",
       "      <td>S</td>\n",
       "    </tr>\n",
       "    <tr>\n",
       "      <th>3</th>\n",
       "      <td>4</td>\n",
       "      <td>1</td>\n",
       "      <td>1</td>\n",
       "      <td>Futrelle, Mrs. Jacques Heath (Lily May Peel)</td>\n",
       "      <td>female</td>\n",
       "      <td>35.0</td>\n",
       "      <td>1</td>\n",
       "      <td>0</td>\n",
       "      <td>113803</td>\n",
       "      <td>53.1000</td>\n",
       "      <td>S</td>\n",
       "    </tr>\n",
       "    <tr>\n",
       "      <th>4</th>\n",
       "      <td>5</td>\n",
       "      <td>0</td>\n",
       "      <td>3</td>\n",
       "      <td>Allen, Mr. William Henry</td>\n",
       "      <td>male</td>\n",
       "      <td>35.0</td>\n",
       "      <td>0</td>\n",
       "      <td>0</td>\n",
       "      <td>373450</td>\n",
       "      <td>8.0500</td>\n",
       "      <td>S</td>\n",
       "    </tr>\n",
       "  </tbody>\n",
       "</table>\n",
       "</div>"
      ],
      "text/plain": [
       "   PassengerId  Survived  Pclass  \\\n",
       "0            1         0       3   \n",
       "1            2         1       1   \n",
       "2            3         1       3   \n",
       "3            4         1       1   \n",
       "4            5         0       3   \n",
       "\n",
       "                                                Name     Sex   Age  SibSp  \\\n",
       "0                            Braund, Mr. Owen Harris    male  22.0      1   \n",
       "1  Cumings, Mrs. John Bradley (Florence Briggs Th...  female  38.0      1   \n",
       "2                             Heikkinen, Miss. Laina  female  26.0      0   \n",
       "3       Futrelle, Mrs. Jacques Heath (Lily May Peel)  female  35.0      1   \n",
       "4                           Allen, Mr. William Henry    male  35.0      0   \n",
       "\n",
       "   Parch            Ticket     Fare Embarked  \n",
       "0      0         A/5 21171   7.2500        S  \n",
       "1      0          PC 17599  71.2833        C  \n",
       "2      0  STON/O2. 3101282   7.9250        S  \n",
       "3      0            113803  53.1000        S  \n",
       "4      0            373450   8.0500        S  "
      ]
     },
     "execution_count": 9,
     "metadata": {},
     "output_type": "execute_result"
    }
   ],
   "source": [
    "df.head()"
   ]
  },
  {
   "cell_type": "code",
   "execution_count": 10,
   "metadata": {},
   "outputs": [],
   "source": [
    "y = df['Survived']"
   ]
  },
  {
   "cell_type": "code",
   "execution_count": null,
   "metadata": {},
   "outputs": [],
   "source": []
  },
  {
   "cell_type": "code",
   "execution_count": 11,
   "metadata": {},
   "outputs": [],
   "source": [
    "X = df[['Pclass', 'Sex', 'Age', 'SibSp', 'Parch', 'Fare', 'Embarked']]"
   ]
  },
  {
   "cell_type": "code",
   "execution_count": 12,
   "metadata": {},
   "outputs": [
    {
     "data": {
      "text/html": [
       "<div>\n",
       "<style scoped>\n",
       "    .dataframe tbody tr th:only-of-type {\n",
       "        vertical-align: middle;\n",
       "    }\n",
       "\n",
       "    .dataframe tbody tr th {\n",
       "        vertical-align: top;\n",
       "    }\n",
       "\n",
       "    .dataframe thead th {\n",
       "        text-align: right;\n",
       "    }\n",
       "</style>\n",
       "<table border=\"1\" class=\"dataframe\">\n",
       "  <thead>\n",
       "    <tr style=\"text-align: right;\">\n",
       "      <th></th>\n",
       "      <th>Pclass</th>\n",
       "      <th>Sex</th>\n",
       "      <th>Age</th>\n",
       "      <th>SibSp</th>\n",
       "      <th>Parch</th>\n",
       "      <th>Fare</th>\n",
       "      <th>Embarked</th>\n",
       "    </tr>\n",
       "  </thead>\n",
       "  <tbody>\n",
       "    <tr>\n",
       "      <th>0</th>\n",
       "      <td>3</td>\n",
       "      <td>male</td>\n",
       "      <td>22.0</td>\n",
       "      <td>1</td>\n",
       "      <td>0</td>\n",
       "      <td>7.2500</td>\n",
       "      <td>S</td>\n",
       "    </tr>\n",
       "    <tr>\n",
       "      <th>1</th>\n",
       "      <td>1</td>\n",
       "      <td>female</td>\n",
       "      <td>38.0</td>\n",
       "      <td>1</td>\n",
       "      <td>0</td>\n",
       "      <td>71.2833</td>\n",
       "      <td>C</td>\n",
       "    </tr>\n",
       "    <tr>\n",
       "      <th>2</th>\n",
       "      <td>3</td>\n",
       "      <td>female</td>\n",
       "      <td>26.0</td>\n",
       "      <td>0</td>\n",
       "      <td>0</td>\n",
       "      <td>7.9250</td>\n",
       "      <td>S</td>\n",
       "    </tr>\n",
       "    <tr>\n",
       "      <th>3</th>\n",
       "      <td>1</td>\n",
       "      <td>female</td>\n",
       "      <td>35.0</td>\n",
       "      <td>1</td>\n",
       "      <td>0</td>\n",
       "      <td>53.1000</td>\n",
       "      <td>S</td>\n",
       "    </tr>\n",
       "    <tr>\n",
       "      <th>4</th>\n",
       "      <td>3</td>\n",
       "      <td>male</td>\n",
       "      <td>35.0</td>\n",
       "      <td>0</td>\n",
       "      <td>0</td>\n",
       "      <td>8.0500</td>\n",
       "      <td>S</td>\n",
       "    </tr>\n",
       "  </tbody>\n",
       "</table>\n",
       "</div>"
      ],
      "text/plain": [
       "   Pclass     Sex   Age  SibSp  Parch     Fare Embarked\n",
       "0       3    male  22.0      1      0   7.2500        S\n",
       "1       1  female  38.0      1      0  71.2833        C\n",
       "2       3  female  26.0      0      0   7.9250        S\n",
       "3       1  female  35.0      1      0  53.1000        S\n",
       "4       3    male  35.0      0      0   8.0500        S"
      ]
     },
     "execution_count": 12,
     "metadata": {},
     "output_type": "execute_result"
    }
   ],
   "source": [
    "X.head()"
   ]
  },
  {
   "cell_type": "code",
   "execution_count": 13,
   "metadata": {},
   "outputs": [
    {
     "data": {
      "text/plain": [
       "(712, 7)"
      ]
     },
     "execution_count": 13,
     "metadata": {},
     "output_type": "execute_result"
    }
   ],
   "source": [
    "X.shape"
   ]
  },
  {
   "cell_type": "code",
   "execution_count": 14,
   "metadata": {},
   "outputs": [
    {
     "data": {
      "text/plain": [
       "0    0\n",
       "1    1\n",
       "2    1\n",
       "3    1\n",
       "4    0\n",
       "Name: Survived, dtype: int64"
      ]
     },
     "execution_count": 14,
     "metadata": {},
     "output_type": "execute_result"
    }
   ],
   "source": [
    "y.head()"
   ]
  },
  {
   "cell_type": "code",
   "execution_count": 15,
   "metadata": {},
   "outputs": [
    {
     "data": {
      "text/plain": [
       "(712,)"
      ]
     },
     "execution_count": 15,
     "metadata": {},
     "output_type": "execute_result"
    }
   ],
   "source": [
    "y.shape"
   ]
  },
  {
   "cell_type": "code",
   "execution_count": 16,
   "metadata": {},
   "outputs": [],
   "source": [
    "X = pd.get_dummies(X, columns=['Pclass', 'Sex', 'Embarked'])"
   ]
  },
  {
   "cell_type": "code",
   "execution_count": 17,
   "metadata": {},
   "outputs": [
    {
     "data": {
      "text/html": [
       "<div>\n",
       "<style scoped>\n",
       "    .dataframe tbody tr th:only-of-type {\n",
       "        vertical-align: middle;\n",
       "    }\n",
       "\n",
       "    .dataframe tbody tr th {\n",
       "        vertical-align: top;\n",
       "    }\n",
       "\n",
       "    .dataframe thead th {\n",
       "        text-align: right;\n",
       "    }\n",
       "</style>\n",
       "<table border=\"1\" class=\"dataframe\">\n",
       "  <thead>\n",
       "    <tr style=\"text-align: right;\">\n",
       "      <th></th>\n",
       "      <th>Age</th>\n",
       "      <th>SibSp</th>\n",
       "      <th>Parch</th>\n",
       "      <th>Fare</th>\n",
       "      <th>Pclass_1</th>\n",
       "      <th>Pclass_2</th>\n",
       "      <th>Pclass_3</th>\n",
       "      <th>Sex_female</th>\n",
       "      <th>Sex_male</th>\n",
       "      <th>Embarked_C</th>\n",
       "      <th>Embarked_Q</th>\n",
       "      <th>Embarked_S</th>\n",
       "    </tr>\n",
       "  </thead>\n",
       "  <tbody>\n",
       "    <tr>\n",
       "      <th>0</th>\n",
       "      <td>22.0</td>\n",
       "      <td>1</td>\n",
       "      <td>0</td>\n",
       "      <td>7.2500</td>\n",
       "      <td>0</td>\n",
       "      <td>0</td>\n",
       "      <td>1</td>\n",
       "      <td>0</td>\n",
       "      <td>1</td>\n",
       "      <td>0</td>\n",
       "      <td>0</td>\n",
       "      <td>1</td>\n",
       "    </tr>\n",
       "    <tr>\n",
       "      <th>1</th>\n",
       "      <td>38.0</td>\n",
       "      <td>1</td>\n",
       "      <td>0</td>\n",
       "      <td>71.2833</td>\n",
       "      <td>1</td>\n",
       "      <td>0</td>\n",
       "      <td>0</td>\n",
       "      <td>1</td>\n",
       "      <td>0</td>\n",
       "      <td>1</td>\n",
       "      <td>0</td>\n",
       "      <td>0</td>\n",
       "    </tr>\n",
       "    <tr>\n",
       "      <th>2</th>\n",
       "      <td>26.0</td>\n",
       "      <td>0</td>\n",
       "      <td>0</td>\n",
       "      <td>7.9250</td>\n",
       "      <td>0</td>\n",
       "      <td>0</td>\n",
       "      <td>1</td>\n",
       "      <td>1</td>\n",
       "      <td>0</td>\n",
       "      <td>0</td>\n",
       "      <td>0</td>\n",
       "      <td>1</td>\n",
       "    </tr>\n",
       "    <tr>\n",
       "      <th>3</th>\n",
       "      <td>35.0</td>\n",
       "      <td>1</td>\n",
       "      <td>0</td>\n",
       "      <td>53.1000</td>\n",
       "      <td>1</td>\n",
       "      <td>0</td>\n",
       "      <td>0</td>\n",
       "      <td>1</td>\n",
       "      <td>0</td>\n",
       "      <td>0</td>\n",
       "      <td>0</td>\n",
       "      <td>1</td>\n",
       "    </tr>\n",
       "    <tr>\n",
       "      <th>4</th>\n",
       "      <td>35.0</td>\n",
       "      <td>0</td>\n",
       "      <td>0</td>\n",
       "      <td>8.0500</td>\n",
       "      <td>0</td>\n",
       "      <td>0</td>\n",
       "      <td>1</td>\n",
       "      <td>0</td>\n",
       "      <td>1</td>\n",
       "      <td>0</td>\n",
       "      <td>0</td>\n",
       "      <td>1</td>\n",
       "    </tr>\n",
       "  </tbody>\n",
       "</table>\n",
       "</div>"
      ],
      "text/plain": [
       "    Age  SibSp  Parch     Fare  Pclass_1  Pclass_2  Pclass_3  Sex_female  \\\n",
       "0  22.0      1      0   7.2500         0         0         1           0   \n",
       "1  38.0      1      0  71.2833         1         0         0           1   \n",
       "2  26.0      0      0   7.9250         0         0         1           1   \n",
       "3  35.0      1      0  53.1000         1         0         0           1   \n",
       "4  35.0      0      0   8.0500         0         0         1           0   \n",
       "\n",
       "   Sex_male  Embarked_C  Embarked_Q  Embarked_S  \n",
       "0         1           0           0           1  \n",
       "1         0           1           0           0  \n",
       "2         0           0           0           1  \n",
       "3         0           0           0           1  \n",
       "4         1           0           0           1  "
      ]
     },
     "execution_count": 17,
     "metadata": {},
     "output_type": "execute_result"
    }
   ],
   "source": [
    "X.head()"
   ]
  },
  {
   "cell_type": "code",
   "execution_count": 18,
   "metadata": {},
   "outputs": [
    {
     "data": {
      "text/plain": [
       "0    0\n",
       "1    1\n",
       "2    1\n",
       "3    1\n",
       "4    0\n",
       "Name: Survived, dtype: int64"
      ]
     },
     "execution_count": 18,
     "metadata": {},
     "output_type": "execute_result"
    }
   ],
   "source": [
    "y.head()"
   ]
  },
  {
   "cell_type": "code",
   "execution_count": 19,
   "metadata": {},
   "outputs": [
    {
     "data": {
      "text/plain": [
       "(712, 12)"
      ]
     },
     "execution_count": 19,
     "metadata": {},
     "output_type": "execute_result"
    }
   ],
   "source": [
    "X.shape"
   ]
  },
  {
   "cell_type": "code",
   "execution_count": 20,
   "metadata": {},
   "outputs": [],
   "source": [
    "# X['Age_2'] = X['Age'] ** 2"
   ]
  },
  {
   "cell_type": "code",
   "execution_count": 21,
   "metadata": {},
   "outputs": [],
   "source": [
    "# X['Pclass_1_Sex_male'] = X['Pclass_1'] * X['Sex_male']"
   ]
  },
  {
   "cell_type": "code",
   "execution_count": 22,
   "metadata": {},
   "outputs": [],
   "source": [
    "# X['Pclass_2_Sex_male'] = X['Pclass_2'] * X['Sex_male']"
   ]
  },
  {
   "cell_type": "code",
   "execution_count": 23,
   "metadata": {},
   "outputs": [],
   "source": [
    "# X['Pclass_3_Sex_male'] = X['Pclass_3'] * X['Sex_male']"
   ]
  },
  {
   "cell_type": "code",
   "execution_count": 24,
   "metadata": {},
   "outputs": [
    {
     "name": "stderr",
     "output_type": "stream",
     "text": [
      "C:\\Users\\Goldy\\AppData\\Local\\Programs\\Python\\Python37\\lib\\importlib\\_bootstrap.py:219: RuntimeWarning: numpy.ufunc size changed, may indicate binary incompatibility. Expected 192 from C header, got 216 from PyObject\n",
      "  return f(*args, **kwds)\n"
     ]
    }
   ],
   "source": [
    "from sklearn.model_selection import train_test_split"
   ]
  },
  {
   "cell_type": "code",
   "execution_count": 25,
   "metadata": {},
   "outputs": [],
   "source": [
    "X_train, X_test, y_train, y_test = train_test_split(X,y,test_size=0.2)"
   ]
  },
  {
   "cell_type": "code",
   "execution_count": 26,
   "metadata": {},
   "outputs": [],
   "source": [
    "from sklearn.svm import SVC, LinearSVC"
   ]
  },
  {
   "cell_type": "code",
   "execution_count": 27,
   "metadata": {},
   "outputs": [
    {
     "name": "stderr",
     "output_type": "stream",
     "text": [
      "c:\\users\\goldy\\desktop\\data_science\\lib\\site-packages\\sklearn\\svm\\base.py:929: ConvergenceWarning: Liblinear failed to converge, increase the number of iterations.\n",
      "  \"the number of iterations.\", ConvergenceWarning)\n"
     ]
    },
    {
     "data": {
      "text/plain": [
       "LinearSVC(C=1.0, class_weight=None, dual=True, fit_intercept=True,\n",
       "          intercept_scaling=1, loss='squared_hinge', max_iter=1000,\n",
       "          multi_class='ovr', penalty='l2', random_state=None, tol=0.0001,\n",
       "          verbose=0)"
      ]
     },
     "execution_count": 27,
     "metadata": {},
     "output_type": "execute_result"
    }
   ],
   "source": [
    "model = LinearSVC()\n",
    "model.fit(X_train, y_train)"
   ]
  },
  {
   "cell_type": "code",
   "execution_count": 28,
   "metadata": {},
   "outputs": [
    {
     "data": {
      "text/plain": [
       "array([[-0.01283472, -0.21210692,  0.122002  , -0.00542439,  0.73589547,\n",
       "         0.10966427, -0.42651069,  0.61044207, -0.19139302,  0.31017774,\n",
       "         0.10179338,  0.00707793]])"
      ]
     },
     "execution_count": 28,
     "metadata": {},
     "output_type": "execute_result"
    }
   ],
   "source": [
    "model.coef_"
   ]
  },
  {
   "cell_type": "code",
   "execution_count": 29,
   "metadata": {},
   "outputs": [
    {
     "data": {
      "text/plain": [
       "0.6993006993006993"
      ]
     },
     "execution_count": 29,
     "metadata": {},
     "output_type": "execute_result"
    }
   ],
   "source": [
    "model.score(X_test, y_test)"
   ]
  },
  {
   "cell_type": "code",
   "execution_count": null,
   "metadata": {},
   "outputs": [],
   "source": []
  },
  {
   "cell_type": "code",
   "execution_count": 30,
   "metadata": {},
   "outputs": [],
   "source": [
    "y_predict = model.predict(X_test)"
   ]
  },
  {
   "cell_type": "code",
   "execution_count": 31,
   "metadata": {},
   "outputs": [
    {
     "name": "stdout",
     "output_type": "stream",
     "text": [
      "Actual: 0 Predicted: 0\n",
      "Actual: 1 Predicted: 1\n",
      "Actual: 1 Predicted: 0\n",
      "Actual: 0 Predicted: 1\n",
      "Actual: 1 Predicted: 1\n",
      "Actual: 1 Predicted: 1\n",
      "Actual: 0 Predicted: 0\n",
      "Actual: 0 Predicted: 0\n",
      "Actual: 0 Predicted: 0\n",
      "Actual: 0 Predicted: 1\n",
      "Actual: 1 Predicted: 0\n",
      "Actual: 1 Predicted: 1\n",
      "Actual: 0 Predicted: 1\n",
      "Actual: 1 Predicted: 1\n",
      "Actual: 0 Predicted: 1\n",
      "Actual: 0 Predicted: 0\n",
      "Actual: 1 Predicted: 1\n",
      "Actual: 1 Predicted: 1\n",
      "Actual: 1 Predicted: 1\n",
      "Actual: 0 Predicted: 0\n",
      "Actual: 0 Predicted: 0\n",
      "Actual: 0 Predicted: 1\n",
      "Actual: 1 Predicted: 1\n",
      "Actual: 0 Predicted: 0\n",
      "Actual: 0 Predicted: 0\n",
      "Actual: 0 Predicted: 0\n",
      "Actual: 1 Predicted: 1\n",
      "Actual: 0 Predicted: 0\n",
      "Actual: 1 Predicted: 1\n",
      "Actual: 1 Predicted: 1\n",
      "Actual: 0 Predicted: 1\n",
      "Actual: 0 Predicted: 0\n",
      "Actual: 0 Predicted: 0\n",
      "Actual: 0 Predicted: 0\n",
      "Actual: 0 Predicted: 1\n",
      "Actual: 0 Predicted: 0\n",
      "Actual: 0 Predicted: 0\n",
      "Actual: 1 Predicted: 1\n",
      "Actual: 1 Predicted: 1\n",
      "Actual: 0 Predicted: 0\n",
      "Actual: 0 Predicted: 0\n",
      "Actual: 1 Predicted: 1\n",
      "Actual: 1 Predicted: 1\n",
      "Actual: 1 Predicted: 1\n",
      "Actual: 0 Predicted: 1\n",
      "Actual: 0 Predicted: 0\n",
      "Actual: 0 Predicted: 0\n",
      "Actual: 1 Predicted: 1\n",
      "Actual: 1 Predicted: 0\n",
      "Actual: 1 Predicted: 0\n",
      "Actual: 1 Predicted: 1\n",
      "Actual: 1 Predicted: 1\n",
      "Actual: 0 Predicted: 1\n",
      "Actual: 0 Predicted: 0\n",
      "Actual: 0 Predicted: 0\n",
      "Actual: 0 Predicted: 0\n",
      "Actual: 0 Predicted: 0\n",
      "Actual: 0 Predicted: 0\n",
      "Actual: 0 Predicted: 1\n",
      "Actual: 1 Predicted: 1\n",
      "Actual: 0 Predicted: 0\n",
      "Actual: 0 Predicted: 0\n",
      "Actual: 0 Predicted: 0\n",
      "Actual: 1 Predicted: 1\n",
      "Actual: 0 Predicted: 1\n",
      "Actual: 0 Predicted: 0\n",
      "Actual: 1 Predicted: 1\n",
      "Actual: 1 Predicted: 1\n",
      "Actual: 0 Predicted: 1\n",
      "Actual: 0 Predicted: 0\n",
      "Actual: 1 Predicted: 0\n",
      "Actual: 1 Predicted: 0\n",
      "Actual: 0 Predicted: 0\n",
      "Actual: 0 Predicted: 0\n",
      "Actual: 0 Predicted: 0\n",
      "Actual: 0 Predicted: 1\n",
      "Actual: 0 Predicted: 0\n",
      "Actual: 0 Predicted: 0\n",
      "Actual: 1 Predicted: 0\n",
      "Actual: 1 Predicted: 1\n",
      "Actual: 0 Predicted: 0\n",
      "Actual: 0 Predicted: 0\n",
      "Actual: 0 Predicted: 0\n",
      "Actual: 0 Predicted: 0\n",
      "Actual: 0 Predicted: 1\n",
      "Actual: 0 Predicted: 1\n",
      "Actual: 0 Predicted: 1\n",
      "Actual: 1 Predicted: 1\n",
      "Actual: 0 Predicted: 0\n",
      "Actual: 0 Predicted: 0\n",
      "Actual: 1 Predicted: 1\n",
      "Actual: 1 Predicted: 0\n",
      "Actual: 1 Predicted: 0\n",
      "Actual: 1 Predicted: 1\n",
      "Actual: 1 Predicted: 1\n",
      "Actual: 0 Predicted: 0\n",
      "Actual: 0 Predicted: 1\n",
      "Actual: 1 Predicted: 1\n",
      "Actual: 1 Predicted: 1\n",
      "Actual: 0 Predicted: 0\n",
      "Actual: 0 Predicted: 1\n",
      "Actual: 0 Predicted: 0\n",
      "Actual: 0 Predicted: 0\n",
      "Actual: 0 Predicted: 0\n",
      "Actual: 0 Predicted: 1\n",
      "Actual: 0 Predicted: 1\n",
      "Actual: 0 Predicted: 1\n",
      "Actual: 1 Predicted: 1\n",
      "Actual: 0 Predicted: 0\n",
      "Actual: 1 Predicted: 1\n",
      "Actual: 0 Predicted: 0\n",
      "Actual: 1 Predicted: 1\n",
      "Actual: 0 Predicted: 1\n",
      "Actual: 0 Predicted: 0\n",
      "Actual: 1 Predicted: 1\n",
      "Actual: 0 Predicted: 0\n",
      "Actual: 0 Predicted: 0\n",
      "Actual: 1 Predicted: 0\n",
      "Actual: 1 Predicted: 1\n",
      "Actual: 0 Predicted: 0\n",
      "Actual: 0 Predicted: 0\n",
      "Actual: 0 Predicted: 1\n",
      "Actual: 0 Predicted: 0\n",
      "Actual: 0 Predicted: 1\n",
      "Actual: 0 Predicted: 0\n",
      "Actual: 1 Predicted: 0\n",
      "Actual: 1 Predicted: 0\n",
      "Actual: 0 Predicted: 1\n",
      "Actual: 0 Predicted: 1\n",
      "Actual: 0 Predicted: 1\n",
      "Actual: 0 Predicted: 0\n",
      "Actual: 1 Predicted: 0\n",
      "Actual: 1 Predicted: 1\n",
      "Actual: 0 Predicted: 0\n",
      "Actual: 1 Predicted: 1\n",
      "Actual: 1 Predicted: 0\n",
      "Actual: 1 Predicted: 0\n",
      "Actual: 0 Predicted: 0\n",
      "Actual: 0 Predicted: 0\n",
      "Actual: 0 Predicted: 1\n",
      "Actual: 0 Predicted: 0\n",
      "Actual: 1 Predicted: 1\n",
      "Actual: 0 Predicted: 0\n"
     ]
    }
   ],
   "source": [
    "for i, y in enumerate(y_test):\n",
    "    print(\"Actual:\",y, \"Predicted:\", y_predict[i])"
   ]
  },
  {
   "cell_type": "code",
   "execution_count": 32,
   "metadata": {},
   "outputs": [
    {
     "name": "stdout",
     "output_type": "stream",
     "text": [
      "Column: Age Coef: -0.012834719716027683\n",
      "Column: SibSp Coef: -0.21210692188514568\n",
      "Column: Parch Coef: 0.1220020039746724\n",
      "Column: Fare Coef: -0.005424394794156203\n",
      "Column: Pclass_1 Coef: 0.7358954686298859\n",
      "Column: Pclass_2 Coef: 0.10966427390317914\n",
      "Column: Pclass_3 Coef: -0.4265106901285588\n",
      "Column: Sex_female Coef: 0.6104420677132681\n",
      "Column: Sex_male Coef: -0.1913930153087889\n",
      "Column: Embarked_C Coef: 0.3101777402019392\n",
      "Column: Embarked_Q Coef: 0.10179338314639759\n",
      "Column: Embarked_S Coef: 0.0070779290561485235\n"
     ]
    }
   ],
   "source": [
    "coef = model.coef_[0]\n",
    "x_cols = X_train.columns\n",
    "for i, col in enumerate(x_cols):\n",
    "    print(\"Column:\",col,\"Coef:\",coef[i])"
   ]
  },
  {
   "cell_type": "code",
   "execution_count": 33,
   "metadata": {
    "scrolled": true
   },
   "outputs": [
    {
     "data": {
      "text/plain": [
       "0.6993006993006993"
      ]
     },
     "execution_count": 33,
     "metadata": {},
     "output_type": "execute_result"
    }
   ],
   "source": [
    "model.score(X_test, y_test)"
   ]
  },
  {
   "cell_type": "code",
   "execution_count": 34,
   "metadata": {},
   "outputs": [],
   "source": [
    "# df_test=pd.read_csv(\"test.csv\", sep=',')"
   ]
  },
  {
   "cell_type": "code",
   "execution_count": 35,
   "metadata": {},
   "outputs": [],
   "source": [
    "# df_test.dropna(inplace=True)"
   ]
  },
  {
   "cell_type": "code",
   "execution_count": 36,
   "metadata": {},
   "outputs": [],
   "source": [
    "# X_test = df_test[['Pclass', 'Sex', 'Age', 'SibSp', 'Parch', 'Fare', 'Embarked']]"
   ]
  },
  {
   "cell_type": "code",
   "execution_count": 37,
   "metadata": {},
   "outputs": [],
   "source": [
    "# X_test = pd.get_dummies(X_test, columns=['Pclass', 'Sex', 'Embarked'])"
   ]
  },
  {
   "cell_type": "code",
   "execution_count": 38,
   "metadata": {},
   "outputs": [],
   "source": [
    "# X_test.head()"
   ]
  },
  {
   "cell_type": "code",
   "execution_count": 39,
   "metadata": {},
   "outputs": [],
   "source": [
    "y_pred = model.predict(X_test)"
   ]
  },
  {
   "cell_type": "code",
   "execution_count": 40,
   "metadata": {},
   "outputs": [
    {
     "data": {
      "text/plain": [
       "array([0, 1, 0, 1, 1, 1, 0, 0, 0, 1, 0, 1, 1, 1, 1, 0, 1, 1, 1, 0, 0, 1,\n",
       "       1, 0, 0, 0, 1, 0, 1, 1, 1, 0, 0, 0, 1, 0, 0, 1, 1, 0, 0, 1, 1, 1,\n",
       "       1, 0, 0, 1, 0, 0, 1, 1, 1, 0, 0, 0, 0, 0, 1, 1, 0, 0, 0, 1, 1, 0,\n",
       "       1, 1, 1, 0, 0, 0, 0, 0, 0, 1, 0, 0, 0, 1, 0, 0, 0, 0, 1, 1, 1, 1,\n",
       "       0, 0, 1, 0, 0, 1, 1, 0, 1, 1, 1, 0, 1, 0, 0, 0, 1, 1, 1, 1, 0, 1,\n",
       "       0, 1, 1, 0, 1, 0, 0, 0, 1, 0, 0, 1, 0, 1, 0, 0, 0, 1, 1, 1, 0, 0,\n",
       "       1, 0, 1, 0, 0, 0, 0, 1, 0, 1, 0], dtype=int64)"
      ]
     },
     "execution_count": 40,
     "metadata": {},
     "output_type": "execute_result"
    }
   ],
   "source": [
    "y_pred"
   ]
  },
  {
   "cell_type": "code",
   "execution_count": 41,
   "metadata": {},
   "outputs": [
    {
     "name": "stdout",
     "output_type": "stream",
     "text": [
      "61\n"
     ]
    }
   ],
   "source": [
    "from sklearn.metrics import confusion_matrix\n",
    "\n",
    "\n",
    "confusion = confusion_matrix(y_test, y_pred)\n",
    "\n",
    "confusion\n",
    "\n",
    "tn = confusion[0][0]\n",
    "print(tn)"
   ]
  },
  {
   "cell_type": "code",
   "execution_count": 42,
   "metadata": {},
   "outputs": [],
   "source": [
    "y_pred = model.predict(X_test)"
   ]
  },
  {
   "cell_type": "code",
   "execution_count": 43,
   "metadata": {},
   "outputs": [
    {
     "name": "stdout",
     "output_type": "stream",
     "text": [
      "Real:0 Predicted:0\n",
      "Real:1 Predicted:1\n",
      "Real:1 Predicted:0\n",
      "Real:0 Predicted:1\n",
      "Real:1 Predicted:1\n",
      "Real:1 Predicted:1\n",
      "Real:0 Predicted:0\n",
      "Real:0 Predicted:0\n",
      "Real:0 Predicted:0\n",
      "Real:0 Predicted:1\n",
      "Real:1 Predicted:0\n",
      "Real:1 Predicted:1\n",
      "Real:0 Predicted:1\n",
      "Real:1 Predicted:1\n",
      "Real:0 Predicted:1\n",
      "Real:0 Predicted:0\n",
      "Real:1 Predicted:1\n",
      "Real:1 Predicted:1\n",
      "Real:1 Predicted:1\n",
      "Real:0 Predicted:0\n",
      "Real:0 Predicted:0\n",
      "Real:0 Predicted:1\n",
      "Real:1 Predicted:1\n",
      "Real:0 Predicted:0\n",
      "Real:0 Predicted:0\n",
      "Real:0 Predicted:0\n",
      "Real:1 Predicted:1\n",
      "Real:0 Predicted:0\n",
      "Real:1 Predicted:1\n",
      "Real:1 Predicted:1\n",
      "Real:0 Predicted:1\n",
      "Real:0 Predicted:0\n",
      "Real:0 Predicted:0\n",
      "Real:0 Predicted:0\n",
      "Real:0 Predicted:1\n",
      "Real:0 Predicted:0\n",
      "Real:0 Predicted:0\n",
      "Real:1 Predicted:1\n",
      "Real:1 Predicted:1\n",
      "Real:0 Predicted:0\n",
      "Real:0 Predicted:0\n",
      "Real:1 Predicted:1\n",
      "Real:1 Predicted:1\n",
      "Real:1 Predicted:1\n",
      "Real:0 Predicted:1\n",
      "Real:0 Predicted:0\n",
      "Real:0 Predicted:0\n",
      "Real:1 Predicted:1\n",
      "Real:1 Predicted:0\n",
      "Real:1 Predicted:0\n",
      "Real:1 Predicted:1\n",
      "Real:1 Predicted:1\n",
      "Real:0 Predicted:1\n",
      "Real:0 Predicted:0\n",
      "Real:0 Predicted:0\n",
      "Real:0 Predicted:0\n",
      "Real:0 Predicted:0\n",
      "Real:0 Predicted:0\n",
      "Real:0 Predicted:1\n",
      "Real:1 Predicted:1\n",
      "Real:0 Predicted:0\n",
      "Real:0 Predicted:0\n",
      "Real:0 Predicted:0\n",
      "Real:1 Predicted:1\n",
      "Real:0 Predicted:1\n",
      "Real:0 Predicted:0\n",
      "Real:1 Predicted:1\n",
      "Real:1 Predicted:1\n",
      "Real:0 Predicted:1\n",
      "Real:0 Predicted:0\n",
      "Real:1 Predicted:0\n",
      "Real:1 Predicted:0\n",
      "Real:0 Predicted:0\n",
      "Real:0 Predicted:0\n",
      "Real:0 Predicted:0\n",
      "Real:0 Predicted:1\n",
      "Real:0 Predicted:0\n",
      "Real:0 Predicted:0\n",
      "Real:1 Predicted:0\n",
      "Real:1 Predicted:1\n",
      "Real:0 Predicted:0\n",
      "Real:0 Predicted:0\n",
      "Real:0 Predicted:0\n",
      "Real:0 Predicted:0\n",
      "Real:0 Predicted:1\n",
      "Real:0 Predicted:1\n",
      "Real:0 Predicted:1\n",
      "Real:1 Predicted:1\n",
      "Real:0 Predicted:0\n",
      "Real:0 Predicted:0\n",
      "Real:1 Predicted:1\n",
      "Real:1 Predicted:0\n",
      "Real:1 Predicted:0\n",
      "Real:1 Predicted:1\n",
      "Real:1 Predicted:1\n",
      "Real:0 Predicted:0\n",
      "Real:0 Predicted:1\n",
      "Real:1 Predicted:1\n",
      "Real:1 Predicted:1\n",
      "Real:0 Predicted:0\n",
      "Real:0 Predicted:1\n",
      "Real:0 Predicted:0\n",
      "Real:0 Predicted:0\n",
      "Real:0 Predicted:0\n",
      "Real:0 Predicted:1\n",
      "Real:0 Predicted:1\n",
      "Real:0 Predicted:1\n",
      "Real:1 Predicted:1\n",
      "Real:0 Predicted:0\n",
      "Real:1 Predicted:1\n",
      "Real:0 Predicted:0\n",
      "Real:1 Predicted:1\n",
      "Real:0 Predicted:1\n",
      "Real:0 Predicted:0\n",
      "Real:1 Predicted:1\n",
      "Real:0 Predicted:0\n",
      "Real:0 Predicted:0\n",
      "Real:1 Predicted:0\n",
      "Real:1 Predicted:1\n",
      "Real:0 Predicted:0\n",
      "Real:0 Predicted:0\n",
      "Real:0 Predicted:1\n",
      "Real:0 Predicted:0\n",
      "Real:0 Predicted:1\n",
      "Real:0 Predicted:0\n",
      "Real:1 Predicted:0\n",
      "Real:1 Predicted:0\n",
      "Real:0 Predicted:1\n",
      "Real:0 Predicted:1\n",
      "Real:0 Predicted:1\n",
      "Real:0 Predicted:0\n",
      "Real:1 Predicted:0\n",
      "Real:1 Predicted:1\n",
      "Real:0 Predicted:0\n",
      "Real:1 Predicted:1\n",
      "Real:1 Predicted:0\n",
      "Real:1 Predicted:0\n",
      "Real:0 Predicted:0\n",
      "Real:0 Predicted:0\n",
      "Real:0 Predicted:1\n",
      "Real:0 Predicted:0\n",
      "Real:1 Predicted:1\n",
      "Real:0 Predicted:0\n"
     ]
    }
   ],
   "source": [
    "for idx, y in enumerate(y_test):\n",
    "    print('Real:' + str(y) + ' Predicted:'+str(y_pred[idx]))"
   ]
  },
  {
   "cell_type": "code",
   "execution_count": 44,
   "metadata": {},
   "outputs": [
    {
     "name": "stderr",
     "output_type": "stream",
     "text": [
      "C:\\Users\\Goldy\\AppData\\Local\\Programs\\Python\\Python37\\lib\\importlib\\_bootstrap.py:219: RuntimeWarning: numpy.ufunc size changed, may indicate binary incompatibility. Expected 192 from C header, got 216 from PyObject\n",
      "  return f(*args, **kwds)\n"
     ]
    }
   ],
   "source": [
    "from sklearn.tree import DecisionTreeClassifier"
   ]
  },
  {
   "cell_type": "code",
   "execution_count": 45,
   "metadata": {},
   "outputs": [],
   "source": [
    "classfier = DecisionTreeClassifier()"
   ]
  },
  {
   "cell_type": "code",
   "execution_count": 46,
   "metadata": {},
   "outputs": [
    {
     "data": {
      "text/plain": [
       "DecisionTreeClassifier(class_weight=None, criterion='gini', max_depth=None,\n",
       "                       max_features=None, max_leaf_nodes=None,\n",
       "                       min_impurity_decrease=0.0, min_impurity_split=None,\n",
       "                       min_samples_leaf=1, min_samples_split=2,\n",
       "                       min_weight_fraction_leaf=0.0, presort=False,\n",
       "                       random_state=None, splitter='best')"
      ]
     },
     "execution_count": 46,
     "metadata": {},
     "output_type": "execute_result"
    }
   ],
   "source": [
    "classfier.fit(X_train, y_train)"
   ]
  },
  {
   "cell_type": "code",
   "execution_count": 47,
   "metadata": {},
   "outputs": [
    {
     "data": {
      "text/plain": [
       "0.9912126537785588"
      ]
     },
     "execution_count": 47,
     "metadata": {},
     "output_type": "execute_result"
    }
   ],
   "source": [
    "classfier.score(X_train, y_train)"
   ]
  },
  {
   "cell_type": "code",
   "execution_count": 48,
   "metadata": {},
   "outputs": [
    {
     "data": {
      "text/plain": [
       "0.7552447552447552"
      ]
     },
     "execution_count": 48,
     "metadata": {},
     "output_type": "execute_result"
    }
   ],
   "source": [
    "classfier.score(X_test, y_test)"
   ]
  },
  {
   "cell_type": "code",
   "execution_count": 49,
   "metadata": {},
   "outputs": [],
   "source": [
    "y_pred = classfier.predict(X_test)"
   ]
  },
  {
   "cell_type": "code",
   "execution_count": 50,
   "metadata": {},
   "outputs": [
    {
     "name": "stdout",
     "output_type": "stream",
     "text": [
      "[0 0 0 0 1 1 0 0 0 0 0 1 0 0 0 1 1 1 1 0 0 1 0 1 0 0 1 0 0 1 1 0 0 0 0 0 0\n",
      " 1 1 1 0 0 1 1 0 1 0 1 1 0 1 1 1 0 0 0 1 0 0 1 0 1 0 0 1 1 1 0 1 0 1 1 0 0\n",
      " 0 0 0 0 0 0 0 1 0 0 0 0 1 1 1 0 0 1 1 1 1 0 0 1 1 0 0 0 0 0 0 0 1 0 0 1 0\n",
      " 1 0 0 1 0 0 0 1 0 0 1 0 0 0 1 1 0 0 0 0 0 1 0 1 0 1 0 0 1 0 1 0]\n"
     ]
    }
   ],
   "source": [
    "print(y_pred)"
   ]
  },
  {
   "cell_type": "code",
   "execution_count": null,
   "metadata": {},
   "outputs": [],
   "source": []
  }
 ],
 "metadata": {
  "kernelspec": {
   "display_name": "Python 3",
   "language": "python",
   "name": "python3"
  },
  "language_info": {
   "codemirror_mode": {
    "name": "ipython",
    "version": 3
   },
   "file_extension": ".py",
   "mimetype": "text/x-python",
   "name": "python",
   "nbconvert_exporter": "python",
   "pygments_lexer": "ipython3",
   "version": "3.7.3"
  }
 },
 "nbformat": 4,
 "nbformat_minor": 2
}
