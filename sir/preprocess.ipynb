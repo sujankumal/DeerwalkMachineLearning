{
 "cells": [
  {
   "cell_type": "code",
   "execution_count": 1,
   "metadata": {},
   "outputs": [
    {
     "ename": "ModuleNotFoundError",
     "evalue": "No module named 'cv2'",
     "output_type": "error",
     "traceback": [
      "\u001b[1;31m---------------------------------------------------------------------------\u001b[0m",
      "\u001b[1;31mModuleNotFoundError\u001b[0m                       Traceback (most recent call last)",
      "\u001b[1;32m<ipython-input-1-61a4357f112f>\u001b[0m in \u001b[0;36m<module>\u001b[1;34m\u001b[0m\n\u001b[1;32m----> 1\u001b[1;33m \u001b[1;32mimport\u001b[0m \u001b[0mcv2\u001b[0m\u001b[1;33m\u001b[0m\u001b[1;33m\u001b[0m\u001b[0m\n\u001b[0m\u001b[0;32m      2\u001b[0m \u001b[1;32mimport\u001b[0m \u001b[0mos\u001b[0m\u001b[1;33m\u001b[0m\u001b[1;33m\u001b[0m\u001b[0m\n\u001b[0;32m      3\u001b[0m \u001b[1;33m\u001b[0m\u001b[0m\n\u001b[0;32m      4\u001b[0m digits = [0\n\u001b[0;32m      5\u001b[0m     \u001b[1;31m#,1,2,3,4,5,6,7,8,9\u001b[0m\u001b[1;33m\u001b[0m\u001b[1;33m\u001b[0m\u001b[1;33m\u001b[0m\u001b[0m\n",
      "\u001b[1;31mModuleNotFoundError\u001b[0m: No module named 'cv2'"
     ]
    }
   ],
   "source": [
    "import cv2\n",
    "import os\n",
    "\n",
    "digits = [0\n",
    "    #,1,2,3,4,5,6,7,8,9\n",
    "          ]\n",
    "\n",
    "for digit in digits:\n",
    "    os.makedirs('dataset_preprocessed_train_test\\\\'+ str(digit) +'\\\\', exist_ok=True)\n",
    "\n",
    "if __name__ == \"__main__\":\n",
    "    for digit in digits:\n",
    "        for filename in os.listdir('dataset_train\\\\'+ str(digit) +'\\\\'):\n",
    "            img = cv2.imread('dataset_train\\\\'+ str(digit) +'\\\\'+filename)\n",
    "            img = 255 - img\n",
    "            # cv2.imshow(\"image\",img)\n",
    "            # cv2.waitKey(0)\n",
    "            # cv2.destroyAllWindows()\n",
    "            gray_scale_img = cv2.cvtColor(img, cv2.COLOR_BGR2GRAY)\n",
    "            print(\"gray\",list(gray_scale_img))\n",
    "            # cv2.imshow(\"image\", gray_scale_img)\n",
    "            # cv2.waitKey(0)\n",
    "            # cv2.destroyAllWindows()\n",
    "            ret, mask = cv2.threshold(gray_scale_img, 180, 255, cv2.THRESH_BINARY)\n",
    "            print(\"mask\",list(mask))\n",
    "            # cv2.imshow(\"image\", mask)\n",
    "            # cv2.waitKey(0)\n",
    "            # cv2.destroyAllWindows()\n",
    "            final_img = cv2.bitwise_and(gray_scale_img, gray_scale_img, mask=mask)\n",
    "            print(\"final\" ,list(final_img))\n",
    "            cv2.imshow(\"image\", final_img)\n",
    "            cv2.waitKey(0)\n",
    "            cv2.destroyAllWindows()\n",
    "            ret, new_img = cv2.threshold(final_img, 180, 255, cv2.THRESH_BINARY)\n",
    "            kernel = cv2.getStructuringElement(cv2.MORPH_CROSS, (1,\n",
    "                                                                 1))  # to manipulate the orientation of dilution , large x means horizonatally dilating  more, large y means vertically dilating more\n",
    "            dilated_img = cv2.dilate(new_img, kernel, iterations=1)  # dilate , more the iteration more the dilation\n",
    "            cv2.imshow(\"image\", final_img)\n",
    "            cv2.waitKey(0)\n",
    "            cv2.destroyAllWindows()\n",
    "            contours, hierarchy = cv2.findContours(dilated_img, cv2.RETR_EXTERNAL, cv2.CHAIN_APPROX_NONE)\n",
    "            contours_img = []\n",
    "            for contour in contours:\n",
    "                [x, y, w, h] = cv2.boundingRect(contour)\n",
    "                contours_img.append([x, y, w, h])\n",
    "\n",
    "            contours_img.sort()\n",
    "\n",
    "            i = 0\n",
    "            digit_segment_img = []\n",
    "\n",
    "            for contour in contours_img:\n",
    "                # get rectangle bounding contour\n",
    "                [x, y, w, h] = contour\n",
    "                # eliminating false positive from our contour\n",
    "                if w < 20 and h < 20:\n",
    "                    continue\n",
    "\n",
    "                # drawing rectangle around contour\n",
    "                rec_img = cv2.rectangle(img, (x, y), (x + w, y + h), (255, 255, 255), 2)\n",
    "\n",
    "                # crop each contour and save individually\n",
    "                cropped_img = final_img[y:y + h, x:x + w]\n",
    "            final_img = cv2.resize(cropped_img, (32, 32))\n",
    "            exit()\n",
    "            # cv2.imwrite('dataset_preprocessed_train_test\\\\'+str(digit)+'\\\\'+filename, final_img)\n",
    "#"
   ]
  },
  {
   "cell_type": "code",
   "execution_count": null,
   "metadata": {},
   "outputs": [],
   "source": []
  }
 ],
 "metadata": {
  "kernelspec": {
   "display_name": "Python 3",
   "language": "python",
   "name": "python3"
  },
  "language_info": {
   "codemirror_mode": {
    "name": "ipython",
    "version": 3
   },
   "file_extension": ".py",
   "mimetype": "text/x-python",
   "name": "python",
   "nbconvert_exporter": "python",
   "pygments_lexer": "ipython3",
   "version": "3.7.1"
  }
 },
 "nbformat": 4,
 "nbformat_minor": 2
}
