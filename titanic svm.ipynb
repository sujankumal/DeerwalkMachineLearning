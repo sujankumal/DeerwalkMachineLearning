{
 "cells": [
  {
   "cell_type": "code",
   "execution_count": 1,
   "metadata": {},
   "outputs": [],
   "source": [
    "import pandas as pd"
   ]
  },
  {
   "cell_type": "code",
   "execution_count": 4,
   "metadata": {},
   "outputs": [],
   "source": [
    "df = pd.read_csv('titanic/train.csv')"
   ]
  },
  {
   "cell_type": "code",
   "execution_count": 5,
   "metadata": {},
   "outputs": [
    {
     "data": {
      "text/plain": [
       "PassengerId      0\n",
       "Survived         0\n",
       "Pclass           0\n",
       "Name             0\n",
       "Sex              0\n",
       "Age            177\n",
       "SibSp            0\n",
       "Parch            0\n",
       "Ticket           0\n",
       "Fare             0\n",
       "Cabin          687\n",
       "Embarked         2\n",
       "dtype: int64"
      ]
     },
     "execution_count": 5,
     "metadata": {},
     "output_type": "execute_result"
    }
   ],
   "source": [
    "df.isnull().sum()"
   ]
  },
  {
   "cell_type": "code",
   "execution_count": 6,
   "metadata": {},
   "outputs": [],
   "source": [
    "df = df.drop(columns='Cabin', axis=1)"
   ]
  },
  {
   "cell_type": "code",
   "execution_count": 7,
   "metadata": {},
   "outputs": [
    {
     "data": {
      "text/plain": [
       "PassengerId      0\n",
       "Survived         0\n",
       "Pclass           0\n",
       "Name             0\n",
       "Sex              0\n",
       "Age            177\n",
       "SibSp            0\n",
       "Parch            0\n",
       "Ticket           0\n",
       "Fare             0\n",
       "Embarked         2\n",
       "dtype: int64"
      ]
     },
     "execution_count": 7,
     "metadata": {},
     "output_type": "execute_result"
    }
   ],
   "source": [
    "df.isnull().sum()"
   ]
  },
  {
   "cell_type": "code",
   "execution_count": 8,
   "metadata": {},
   "outputs": [
    {
     "data": {
      "text/plain": [
       "(891, 11)"
      ]
     },
     "execution_count": 8,
     "metadata": {},
     "output_type": "execute_result"
    }
   ],
   "source": [
    "df.shape"
   ]
  },
  {
   "cell_type": "code",
   "execution_count": 9,
   "metadata": {},
   "outputs": [],
   "source": [
    "df = df.dropna()"
   ]
  },
  {
   "cell_type": "code",
   "execution_count": 10,
   "metadata": {},
   "outputs": [
    {
     "data": {
      "text/plain": [
       "(712, 11)"
      ]
     },
     "execution_count": 10,
     "metadata": {},
     "output_type": "execute_result"
    }
   ],
   "source": [
    "df.shape"
   ]
  },
  {
   "cell_type": "code",
   "execution_count": 11,
   "metadata": {},
   "outputs": [
    {
     "data": {
      "text/html": [
       "<div>\n",
       "<style scoped>\n",
       "    .dataframe tbody tr th:only-of-type {\n",
       "        vertical-align: middle;\n",
       "    }\n",
       "\n",
       "    .dataframe tbody tr th {\n",
       "        vertical-align: top;\n",
       "    }\n",
       "\n",
       "    .dataframe thead th {\n",
       "        text-align: right;\n",
       "    }\n",
       "</style>\n",
       "<table border=\"1\" class=\"dataframe\">\n",
       "  <thead>\n",
       "    <tr style=\"text-align: right;\">\n",
       "      <th></th>\n",
       "      <th>PassengerId</th>\n",
       "      <th>Survived</th>\n",
       "      <th>Pclass</th>\n",
       "      <th>Name</th>\n",
       "      <th>Sex</th>\n",
       "      <th>Age</th>\n",
       "      <th>SibSp</th>\n",
       "      <th>Parch</th>\n",
       "      <th>Ticket</th>\n",
       "      <th>Fare</th>\n",
       "      <th>Embarked</th>\n",
       "    </tr>\n",
       "  </thead>\n",
       "  <tbody>\n",
       "    <tr>\n",
       "      <th>0</th>\n",
       "      <td>1</td>\n",
       "      <td>0</td>\n",
       "      <td>3</td>\n",
       "      <td>Braund, Mr. Owen Harris</td>\n",
       "      <td>male</td>\n",
       "      <td>22.0</td>\n",
       "      <td>1</td>\n",
       "      <td>0</td>\n",
       "      <td>A/5 21171</td>\n",
       "      <td>7.2500</td>\n",
       "      <td>S</td>\n",
       "    </tr>\n",
       "    <tr>\n",
       "      <th>1</th>\n",
       "      <td>2</td>\n",
       "      <td>1</td>\n",
       "      <td>1</td>\n",
       "      <td>Cumings, Mrs. John Bradley (Florence Briggs Th...</td>\n",
       "      <td>female</td>\n",
       "      <td>38.0</td>\n",
       "      <td>1</td>\n",
       "      <td>0</td>\n",
       "      <td>PC 17599</td>\n",
       "      <td>71.2833</td>\n",
       "      <td>C</td>\n",
       "    </tr>\n",
       "    <tr>\n",
       "      <th>2</th>\n",
       "      <td>3</td>\n",
       "      <td>1</td>\n",
       "      <td>3</td>\n",
       "      <td>Heikkinen, Miss. Laina</td>\n",
       "      <td>female</td>\n",
       "      <td>26.0</td>\n",
       "      <td>0</td>\n",
       "      <td>0</td>\n",
       "      <td>STON/O2. 3101282</td>\n",
       "      <td>7.9250</td>\n",
       "      <td>S</td>\n",
       "    </tr>\n",
       "    <tr>\n",
       "      <th>3</th>\n",
       "      <td>4</td>\n",
       "      <td>1</td>\n",
       "      <td>1</td>\n",
       "      <td>Futrelle, Mrs. Jacques Heath (Lily May Peel)</td>\n",
       "      <td>female</td>\n",
       "      <td>35.0</td>\n",
       "      <td>1</td>\n",
       "      <td>0</td>\n",
       "      <td>113803</td>\n",
       "      <td>53.1000</td>\n",
       "      <td>S</td>\n",
       "    </tr>\n",
       "    <tr>\n",
       "      <th>4</th>\n",
       "      <td>5</td>\n",
       "      <td>0</td>\n",
       "      <td>3</td>\n",
       "      <td>Allen, Mr. William Henry</td>\n",
       "      <td>male</td>\n",
       "      <td>35.0</td>\n",
       "      <td>0</td>\n",
       "      <td>0</td>\n",
       "      <td>373450</td>\n",
       "      <td>8.0500</td>\n",
       "      <td>S</td>\n",
       "    </tr>\n",
       "  </tbody>\n",
       "</table>\n",
       "</div>"
      ],
      "text/plain": [
       "   PassengerId  Survived  Pclass  \\\n",
       "0            1         0       3   \n",
       "1            2         1       1   \n",
       "2            3         1       3   \n",
       "3            4         1       1   \n",
       "4            5         0       3   \n",
       "\n",
       "                                                Name     Sex   Age  SibSp  \\\n",
       "0                            Braund, Mr. Owen Harris    male  22.0      1   \n",
       "1  Cumings, Mrs. John Bradley (Florence Briggs Th...  female  38.0      1   \n",
       "2                             Heikkinen, Miss. Laina  female  26.0      0   \n",
       "3       Futrelle, Mrs. Jacques Heath (Lily May Peel)  female  35.0      1   \n",
       "4                           Allen, Mr. William Henry    male  35.0      0   \n",
       "\n",
       "   Parch            Ticket     Fare Embarked  \n",
       "0      0         A/5 21171   7.2500        S  \n",
       "1      0          PC 17599  71.2833        C  \n",
       "2      0  STON/O2. 3101282   7.9250        S  \n",
       "3      0            113803  53.1000        S  \n",
       "4      0            373450   8.0500        S  "
      ]
     },
     "execution_count": 11,
     "metadata": {},
     "output_type": "execute_result"
    }
   ],
   "source": [
    "df.head()"
   ]
  },
  {
   "cell_type": "code",
   "execution_count": 12,
   "metadata": {},
   "outputs": [],
   "source": [
    "y = df['Survived']"
   ]
  },
  {
   "cell_type": "code",
   "execution_count": 13,
   "metadata": {},
   "outputs": [],
   "source": [
    "x = df[['Pclass','Sex','Age','SibSp','Parch','Fare','Embarked']]"
   ]
  },
  {
   "cell_type": "code",
   "execution_count": 14,
   "metadata": {},
   "outputs": [],
   "source": [
    "x = pd.get_dummies(x, columns=['Pclass','Sex','Embarked'])"
   ]
  },
  {
   "cell_type": "code",
   "execution_count": 15,
   "metadata": {},
   "outputs": [
    {
     "data": {
      "text/html": [
       "<div>\n",
       "<style scoped>\n",
       "    .dataframe tbody tr th:only-of-type {\n",
       "        vertical-align: middle;\n",
       "    }\n",
       "\n",
       "    .dataframe tbody tr th {\n",
       "        vertical-align: top;\n",
       "    }\n",
       "\n",
       "    .dataframe thead th {\n",
       "        text-align: right;\n",
       "    }\n",
       "</style>\n",
       "<table border=\"1\" class=\"dataframe\">\n",
       "  <thead>\n",
       "    <tr style=\"text-align: right;\">\n",
       "      <th></th>\n",
       "      <th>Age</th>\n",
       "      <th>SibSp</th>\n",
       "      <th>Parch</th>\n",
       "      <th>Fare</th>\n",
       "      <th>Pclass_1</th>\n",
       "      <th>Pclass_2</th>\n",
       "      <th>Pclass_3</th>\n",
       "      <th>Sex_female</th>\n",
       "      <th>Sex_male</th>\n",
       "      <th>Embarked_C</th>\n",
       "      <th>Embarked_Q</th>\n",
       "      <th>Embarked_S</th>\n",
       "    </tr>\n",
       "  </thead>\n",
       "  <tbody>\n",
       "    <tr>\n",
       "      <th>0</th>\n",
       "      <td>22.0</td>\n",
       "      <td>1</td>\n",
       "      <td>0</td>\n",
       "      <td>7.25</td>\n",
       "      <td>0</td>\n",
       "      <td>0</td>\n",
       "      <td>1</td>\n",
       "      <td>0</td>\n",
       "      <td>1</td>\n",
       "      <td>0</td>\n",
       "      <td>0</td>\n",
       "      <td>1</td>\n",
       "    </tr>\n",
       "  </tbody>\n",
       "</table>\n",
       "</div>"
      ],
      "text/plain": [
       "    Age  SibSp  Parch  Fare  Pclass_1  Pclass_2  Pclass_3  Sex_female  \\\n",
       "0  22.0      1      0  7.25         0         0         1           0   \n",
       "\n",
       "   Sex_male  Embarked_C  Embarked_Q  Embarked_S  \n",
       "0         1           0           0           1  "
      ]
     },
     "execution_count": 15,
     "metadata": {},
     "output_type": "execute_result"
    }
   ],
   "source": [
    "x.head(1)"
   ]
  },
  {
   "cell_type": "code",
   "execution_count": 20,
   "metadata": {},
   "outputs": [],
   "source": [
    "from sklearn.model_selection import train_test_split\n",
    "x_train, x_test, y_train, y_test = train_test_split(x,y,test_size=0.2)\n"
   ]
  },
  {
   "cell_type": "code",
   "execution_count": 16,
   "metadata": {},
   "outputs": [],
   "source": [
    "from sklearn.svm import SVC, LinearSVC"
   ]
  },
  {
   "cell_type": "code",
   "execution_count": 17,
   "metadata": {},
   "outputs": [],
   "source": [
    "linear_svc = LinearSVC()"
   ]
  },
  {
   "cell_type": "code",
   "execution_count": 21,
   "metadata": {},
   "outputs": [
    {
     "name": "stderr",
     "output_type": "stream",
     "text": [
      "c:\\users\\sujan\\desktop\\datascience\\lib\\site-packages\\sklearn\\svm\\base.py:929: ConvergenceWarning: Liblinear failed to converge, increase the number of iterations.\n",
      "  \"the number of iterations.\", ConvergenceWarning)\n"
     ]
    },
    {
     "data": {
      "text/plain": [
       "LinearSVC(C=1.0, class_weight=None, dual=True, fit_intercept=True,\n",
       "          intercept_scaling=1, loss='squared_hinge', max_iter=1000,\n",
       "          multi_class='ovr', penalty='l2', random_state=None, tol=0.0001,\n",
       "          verbose=0)"
      ]
     },
     "execution_count": 21,
     "metadata": {},
     "output_type": "execute_result"
    }
   ],
   "source": [
    "linear_svc.fit(x_train,y_train)"
   ]
  },
  {
   "cell_type": "code",
   "execution_count": 22,
   "metadata": {},
   "outputs": [
    {
     "data": {
      "text/plain": [
       "array([[-0.00940083, -0.12970137,  0.05598333,  0.00818431,  0.58994162,\n",
       "         0.0956947 , -0.37670504,  0.60641321, -0.29748192,  0.2917804 ,\n",
       "         0.02596804, -0.00881715]])"
      ]
     },
     "execution_count": 22,
     "metadata": {},
     "output_type": "execute_result"
    }
   ],
   "source": [
    "linear_svc.coef_"
   ]
  },
  {
   "cell_type": "code",
   "execution_count": 23,
   "metadata": {},
   "outputs": [
    {
     "data": {
      "text/plain": [
       "array([0.30893129])"
      ]
     },
     "execution_count": 23,
     "metadata": {},
     "output_type": "execute_result"
    }
   ],
   "source": [
    "linear_svc.intercept_"
   ]
  },
  {
   "cell_type": "code",
   "execution_count": 24,
   "metadata": {},
   "outputs": [
    {
     "data": {
      "text/plain": [
       "0.7293497363796133"
      ]
     },
     "execution_count": 24,
     "metadata": {},
     "output_type": "execute_result"
    }
   ],
   "source": [
    "linear_svc.score(x_train,y_train)"
   ]
  },
  {
   "cell_type": "code",
   "execution_count": 25,
   "metadata": {},
   "outputs": [
    {
     "name": "stdout",
     "output_type": "stream",
     "text": [
      "Real: 0 Predicted: 0\n",
      "Real: 1 Predicted: 1\n",
      "Real: 0 Predicted: 1\n",
      "Real: 1 Predicted: 1\n",
      "Real: 0 Predicted: 0\n",
      "Real: 0 Predicted: 0\n",
      "Real: 1 Predicted: 0\n",
      "Real: 1 Predicted: 1\n",
      "Real: 0 Predicted: 0\n",
      "Real: 1 Predicted: 1\n",
      "Real: 0 Predicted: 1\n",
      "Real: 1 Predicted: 1\n",
      "Real: 0 Predicted: 0\n",
      "Real: 0 Predicted: 0\n",
      "Real: 0 Predicted: 0\n",
      "Real: 0 Predicted: 1\n",
      "Real: 1 Predicted: 1\n",
      "Real: 0 Predicted: 0\n",
      "Real: 0 Predicted: 0\n",
      "Real: 1 Predicted: 1\n",
      "Real: 0 Predicted: 0\n",
      "Real: 0 Predicted: 0\n",
      "Real: 1 Predicted: 1\n",
      "Real: 0 Predicted: 1\n",
      "Real: 0 Predicted: 0\n",
      "Real: 0 Predicted: 0\n",
      "Real: 1 Predicted: 1\n",
      "Real: 1 Predicted: 1\n",
      "Real: 1 Predicted: 1\n",
      "Real: 0 Predicted: 0\n",
      "Real: 0 Predicted: 0\n",
      "Real: 0 Predicted: 0\n",
      "Real: 0 Predicted: 0\n",
      "Real: 1 Predicted: 1\n",
      "Real: 0 Predicted: 0\n",
      "Real: 0 Predicted: 1\n",
      "Real: 0 Predicted: 1\n",
      "Real: 0 Predicted: 1\n",
      "Real: 1 Predicted: 1\n",
      "Real: 0 Predicted: 0\n",
      "Real: 0 Predicted: 0\n",
      "Real: 0 Predicted: 0\n",
      "Real: 1 Predicted: 1\n",
      "Real: 1 Predicted: 1\n",
      "Real: 1 Predicted: 0\n",
      "Real: 0 Predicted: 0\n",
      "Real: 1 Predicted: 0\n",
      "Real: 1 Predicted: 1\n",
      "Real: 1 Predicted: 1\n",
      "Real: 1 Predicted: 1\n",
      "Real: 1 Predicted: 1\n",
      "Real: 1 Predicted: 1\n",
      "Real: 0 Predicted: 0\n",
      "Real: 0 Predicted: 0\n",
      "Real: 0 Predicted: 0\n",
      "Real: 1 Predicted: 1\n",
      "Real: 1 Predicted: 1\n",
      "Real: 1 Predicted: 1\n",
      "Real: 1 Predicted: 1\n",
      "Real: 0 Predicted: 0\n",
      "Real: 1 Predicted: 1\n",
      "Real: 0 Predicted: 0\n",
      "Real: 1 Predicted: 1\n",
      "Real: 1 Predicted: 0\n",
      "Real: 0 Predicted: 1\n",
      "Real: 0 Predicted: 0\n",
      "Real: 0 Predicted: 1\n",
      "Real: 1 Predicted: 0\n",
      "Real: 1 Predicted: 1\n",
      "Real: 1 Predicted: 1\n",
      "Real: 1 Predicted: 1\n",
      "Real: 1 Predicted: 1\n",
      "Real: 1 Predicted: 1\n",
      "Real: 0 Predicted: 1\n",
      "Real: 0 Predicted: 1\n",
      "Real: 0 Predicted: 1\n",
      "Real: 1 Predicted: 1\n",
      "Real: 0 Predicted: 0\n",
      "Real: 0 Predicted: 1\n",
      "Real: 1 Predicted: 1\n",
      "Real: 0 Predicted: 0\n",
      "Real: 1 Predicted: 0\n",
      "Real: 0 Predicted: 1\n",
      "Real: 1 Predicted: 0\n",
      "Real: 1 Predicted: 1\n",
      "Real: 1 Predicted: 1\n",
      "Real: 1 Predicted: 1\n",
      "Real: 1 Predicted: 0\n",
      "Real: 0 Predicted: 0\n",
      "Real: 0 Predicted: 0\n",
      "Real: 0 Predicted: 1\n",
      "Real: 0 Predicted: 0\n",
      "Real: 1 Predicted: 1\n",
      "Real: 0 Predicted: 0\n",
      "Real: 0 Predicted: 0\n",
      "Real: 0 Predicted: 0\n",
      "Real: 1 Predicted: 1\n",
      "Real: 0 Predicted: 1\n",
      "Real: 0 Predicted: 0\n",
      "Real: 0 Predicted: 1\n",
      "Real: 1 Predicted: 1\n",
      "Real: 1 Predicted: 1\n",
      "Real: 0 Predicted: 0\n",
      "Real: 0 Predicted: 0\n",
      "Real: 0 Predicted: 0\n",
      "Real: 1 Predicted: 1\n",
      "Real: 0 Predicted: 1\n",
      "Real: 1 Predicted: 1\n",
      "Real: 0 Predicted: 1\n",
      "Real: 0 Predicted: 0\n",
      "Real: 1 Predicted: 1\n",
      "Real: 1 Predicted: 1\n",
      "Real: 0 Predicted: 0\n",
      "Real: 0 Predicted: 1\n",
      "Real: 0 Predicted: 0\n",
      "Real: 1 Predicted: 1\n",
      "Real: 1 Predicted: 1\n",
      "Real: 0 Predicted: 0\n",
      "Real: 0 Predicted: 1\n",
      "Real: 1 Predicted: 1\n",
      "Real: 1 Predicted: 1\n",
      "Real: 0 Predicted: 1\n",
      "Real: 1 Predicted: 1\n",
      "Real: 1 Predicted: 1\n",
      "Real: 0 Predicted: 1\n",
      "Real: 1 Predicted: 1\n",
      "Real: 0 Predicted: 1\n",
      "Real: 1 Predicted: 1\n",
      "Real: 0 Predicted: 1\n",
      "Real: 1 Predicted: 0\n",
      "Real: 0 Predicted: 0\n",
      "Real: 1 Predicted: 1\n",
      "Real: 1 Predicted: 1\n",
      "Real: 0 Predicted: 0\n",
      "Real: 0 Predicted: 0\n",
      "Real: 1 Predicted: 0\n",
      "Real: 0 Predicted: 0\n",
      "Real: 0 Predicted: 1\n",
      "Real: 1 Predicted: 1\n",
      "Real: 0 Predicted: 0\n",
      "Real: 1 Predicted: 1\n",
      "Real: 1 Predicted: 1\n",
      "Real: 0 Predicted: 1\n"
     ]
    }
   ],
   "source": [
    "y_pred = linear_svc.predict(x_test)\n",
    "\n",
    "for idx, y in enumerate(y_test):\n",
    "    print('Real: '+str(y)+' Predicted: '+ str(y_pred[idx]))"
   ]
  },
  {
   "cell_type": "code",
   "execution_count": 27,
   "metadata": {},
   "outputs": [
    {
     "name": "stdout",
     "output_type": "stream",
     "text": [
      "Column: Age Coef: -0.009400825798233713\n",
      "Column: SibSp Coef: -0.12970136549420308\n",
      "Column: Parch Coef: 0.055983329422755\n",
      "Column: Fare Coef: 0.008184308282719802\n",
      "Column: Pclass_1 Coef: 0.5899416247437123\n",
      "Column: Pclass_2 Coef: 0.0956947030459823\n",
      "Column: Pclass_3 Coef: -0.3767050400851146\n",
      "Column: Sex_female Coef: 0.6064132102324924\n",
      "Column: Sex_male Coef: -0.2974819225279015\n",
      "Column: Embarked_C Coef: 0.29178040179808334\n",
      "Column: Embarked_Q Coef: 0.025968035177044404\n",
      "Column: Embarked_S Coef: -0.008817149270525843\n"
     ]
    }
   ],
   "source": [
    "coef = linear_svc.coef_[0]\n",
    "x_cols = x_train.columns\n",
    "for i, col in enumerate(x_cols):\n",
    "    print(\"Column:\",col, \"Coef:\",coef[i])"
   ]
  },
  {
   "cell_type": "code",
   "execution_count": null,
   "metadata": {},
   "outputs": [],
   "source": []
  }
 ],
 "metadata": {
  "kernelspec": {
   "display_name": "Python 3",
   "language": "python",
   "name": "python3"
  },
  "language_info": {
   "codemirror_mode": {
    "name": "ipython",
    "version": 3
   },
   "file_extension": ".py",
   "mimetype": "text/x-python",
   "name": "python",
   "nbconvert_exporter": "python",
   "pygments_lexer": "ipython3",
   "version": "3.7.1"
  }
 },
 "nbformat": 4,
 "nbformat_minor": 2
}
